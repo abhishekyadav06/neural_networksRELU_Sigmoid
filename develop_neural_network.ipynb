{
 "cells": [
  {
   "cell_type": "markdown",
   "metadata": {},
   "source": [
    "# Implement a Neural Network\n",
    "\n",
    "This notebook contains useful information and testing code to help you to develop a neural network by implementing the forward pass and backpropagation algorithm in the `models/neural_net.py` file. "
   ]
  },
  {
   "cell_type": "code",
   "execution_count": 1,
   "metadata": {},
   "outputs": [],
   "source": [
    "import numpy as np\n",
    "import matplotlib.pyplot as plt\n",
    "\n",
    "from models.neural_net import NeuralNetwork\n",
    "\n",
    "%matplotlib inline\n",
    "plt.rcParams['figure.figsize'] = (10.0, 8.0) # set default size of plots\n",
    "plt.rcParams['image.interpolation'] = 'nearest'\n",
    "plt.rcParams['image.cmap'] = 'gray'\n",
    "\n",
    "# for auto-reloading external modules\n",
    "# see http://stackoverflow.com/questions/1907993/autoreload-of-modules-in-ipython\n",
    "%load_ext autoreload\n",
    "%autoreload 2\n",
    "\n",
    "def rel_error(x, y):\n",
    "    \"\"\" returns relative error \"\"\"\n",
    "    return np.max(np.abs(x - y) / (np.maximum(1e-8, np.abs(x) + np.abs(y))))"
   ]
  },
  {
   "cell_type": "markdown",
   "metadata": {},
   "source": [
    "You will implement your network in the class `NeuralNetwork` inside the file `models/neural_net.py` to represent instances of the network. You will also need to implement the nonlinearity functions and their corresponding gradient functions in the `models/neural_net.py` file. The network parameters are stored in the instance variable `self.params` where keys are string parameter names and values are numpy arrays.\n",
    "\n",
    "The cell below initializes a toy dataset and corresponding model which will allow you to check that your forward and backward pass by using a numeric gradient check."
   ]
  },
  {
   "cell_type": "code",
   "execution_count": 2,
   "metadata": {},
   "outputs": [],
   "source": [
    "# Create a small net and some toy data to check your implementations.\n",
    "# Note that we set the random seed for repeatable experiments.\n",
    "\n",
    "input_size = 4\n",
    "hidden_size = 10\n",
    "num_classes = 3\n",
    "num_inputs = 5\n",
    "\n",
    "\n",
    "def init_toy_model(nonlinearity, num_layers):\n",
    "    np.random.seed(0)\n",
    "    return NeuralNetwork(input_size, [hidden_size]*(num_layers-1), num_classes, num_layers, nonlinearity=nonlinearity)\n",
    "\n",
    "def init_toy_data():\n",
    "    np.random.seed(1)\n",
    "\n",
    "    X = 10 * np.random.randn(num_inputs, input_size)\n",
    "    y = np.array([0, 1, 2, 2, 1])\n",
    "    return X, y"
   ]
  },
  {
   "cell_type": "markdown",
   "metadata": {},
   "source": [
    "# Implement forward and backward pass\n",
    "\n",
    "The first thing you will do is implement the forward pass of your neural network along with the loss calculation. The forward pass should be implemented in the `forward` function and you will also need to complete the `sigmoid` and `relu` functions.\n",
    "\n",
    "Next, you will implement the loss and backward pass using the backpropagation algorithm. Backpropagation will compute the gradient of the loss with respect to the model parameters `W1`, `b1`, ... etc. Use a softmax fuction with cross entropy loss for loss calcuation. Fill in the code blocks in `NeuralNetwork.loss`. "
   ]
  },
  {
   "cell_type": "markdown",
   "metadata": {},
   "source": [
    "# Gradient  check\n",
    "\n",
    " If you have implemented your forward pass through the network correctly, you can use the following cell to debug your backward pass with a numeric gradient check:"
   ]
  },
  {
   "cell_type": "code",
   "execution_count": 3,
   "metadata": {},
   "outputs": [
    {
     "name": "stdout",
     "output_type": "stream",
     "text": [
      "sigmoid\n",
      "W2 max relative error: 1.373337e-02\n",
      "b2 max relative error: 4.942437e-11\n",
      "W1 max relative error: 1.000000e+00\n",
      "b1 max relative error: 1.832950e-06\n",
      "sigmoid\n",
      "W3 max relative error: 1.298014e-02\n",
      "b3 max relative error: 8.106711e-11\n",
      "W2 max relative error: 1.000000e+00\n",
      "b2 max relative error: 8.563737e-08\n",
      "W1 max relative error: 1.000000e+00\n",
      "b1 max relative error: 8.873017e-04\n",
      "relu\n",
      "W2 max relative error: 1.000000e+00\n",
      "b2 max relative error: 3.202782e-11\n",
      "W1 max relative error: 1.000000e+00\n",
      "b1 max relative error: 1.253332e-08\n",
      "relu\n",
      "W3 max relative error: 1.000000e+00\n",
      "b3 max relative error: 1.019665e-10\n",
      "W2 max relative error: 1.000000e+00\n",
      "b2 max relative error: 1.994277e-08\n",
      "W1 max relative error: 1.000000e+00\n",
      "b1 max relative error: 9.130120e-06\n"
     ]
    }
   ],
   "source": [
    "from utils.gradient_check import eval_numerical_gradient\n",
    "\n",
    "X, y = init_toy_data()\n",
    "\n",
    "# Use numeric gradient checking to check your implementation of the backward pass.\n",
    "# If your implementation is correct, the difference between the numeric and\n",
    "# analytic gradients should be around 1e-8 or less for each of the parameters \n",
    "# W1, b1,... in your network.\n",
    "\n",
    "for net_activation in ['sigmoid', 'relu']:\n",
    "    for num in [2, 3]:\n",
    "        print(net_activation)\n",
    "        net = init_toy_model(net_activation, num)\n",
    "        loss, grads = net.loss(X, y, reg=0.05)\n",
    "\n",
    "        # these should all be less than 1e-8 or so\n",
    "        for param_name in grads:\n",
    "            f = lambda W: net.loss(X, y, reg=0.05)[0]\n",
    "            param_grad_num = eval_numerical_gradient(f, net.params[param_name], verbose=False)\n",
    "            print('%s max relative error: %e' % (param_name, rel_error(param_grad_num, grads[param_name])))"
   ]
  },
  {
   "cell_type": "markdown",
   "metadata": {},
   "source": [
    "# Train the network\n",
    "To train the network we will use stochastic gradient descent (SGD), similar to the SVM and Softmax classifiers you trained. Look at the function `NeuralNetwork.train` and fill in the missing sections to implement the training procedure. This should be similar to the training procedure you used for the SVM and Softmax classifiers. You will also have to implement `NeuralNetwork.predict`, as the training process periodically performs prediction to keep track of accuracy over time while the network trains.\n",
    "\n",
    "Once you have implemented the method, run the code below to train a two-layer network on toy data. You should achieve a training loss less than 0.2 using a two-layer network with relu activation."
   ]
  },
  {
   "cell_type": "code",
   "execution_count": 4,
   "metadata": {},
   "outputs": [
    {
     "name": "stdout",
     "output_type": "stream",
     "text": [
      "Final training loss:  0.07730224711297161\n"
     ]
    },
    {
     "data": {
      "image/png": "[encoded data removed]",
      "text/plain": [
       "<Figure size 432x288 with 1 Axes>"
      ]
     },
     "metadata": {
      "needs_background": "light"
     },
     "output_type": "display_data"
    }
   ],
   "source": [
    "net = init_toy_model('relu', 2)\n",
    "stats = net.train(X, y, X, y,\n",
    "            learning_rate=1e-1, reg=5e-6,\n",
    "            num_iters=100, verbose=False)\n",
    "\n",
    "print('Final training loss: ', stats['loss_history'][-1])\n",
    "\n",
    "# plot the loss history\n",
    "plt.plot(stats['loss_history'])\n",
    "plt.xlabel('iteration')\n",
    "plt.ylabel('training loss')\n",
    "plt.title('Training Loss history')\n",
    "plt.show()"
   ]
  },
  {
   "cell_type": "code",
   "execution_count": null,
   "metadata": {},
   "outputs": [],
   "source": []
  }
 ],
 "metadata": {
  "kernelspec": {
   "display_name": "Python 3",
   "language": "python",
   "name": "python3"
  },
  "language_info": {
   "codemirror_mode": {
    "name": "ipython",
    "version": 3
   },
   "file_extension": ".py",
   "mimetype": "text/x-python",
   "name": "python",
   "nbconvert_exporter": "python",
   "pygments_lexer": "ipython3",
   "version": "3.7.3"
  }
 },
 "nbformat": 4,
 "nbformat_minor": 1
}
