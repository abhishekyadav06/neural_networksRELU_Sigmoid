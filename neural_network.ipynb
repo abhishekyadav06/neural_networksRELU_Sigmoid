{
 "cells": [
  {
   "cell_type": "code",
   "execution_count": 1,
   "metadata": {},
   "outputs": [],
   "source": [
    "import numpy as np\n",
    "import matplotlib.pyplot as plt\n",
    "\n",
    "from utils.data_process import get_CIFAR10_data\n",
    "from models.neural_net import NeuralNetwork\n",
    "from kaggle_submission import output_submission_csv\n",
    "\n",
    "%matplotlib inline\n",
    "plt.rcParams['figure.figsize'] = (10.0, 8.0) # set default size of plots\n",
    "plt.rcParams['image.interpolation'] = 'nearest'\n",
    "plt.rcParams['image.cmap'] = 'gray'\n",
    "\n",
    "# for auto-reloading external modules\n",
    "# see http://stackoverflow.com/questions/1907993/autoreload-of-modules-in-ipython\n",
    "%load_ext autoreload\n",
    "%autoreload 2"
   ]
  },
  {
   "cell_type": "markdown",
   "metadata": {},
   "source": [
    "# Loading CIFAR-10\n",
    "Now that you have implemented a neural network that passes gradient checks and works on toy data, you will test your network on the CIFAR-10 dataset."
   ]
  },
  {
   "cell_type": "code",
   "execution_count": 2,
   "metadata": {},
   "outputs": [],
   "source": [
    "# You can change these numbers for experimentation\n",
    "# For submission be sure they are set to the default values \n",
    "TRAIN_IMAGES = 49000\n",
    "VAL_IMAGES = 1000\n",
    "TEST_IMAGES = 5000\n",
    "\n",
    "data = get_CIFAR10_data(TRAIN_IMAGES, VAL_IMAGES, TEST_IMAGES)\n",
    "X_train, y_train = data['X_train'], data['y_train']\n",
    "X_val, y_val = data['X_val'], data['y_val']\n",
    "X_test, y_test = data['X_test'], data['y_test']"
   ]
  },
  {
   "cell_type": "markdown",
   "metadata": {},
   "source": [
    "# Train a network\n",
    "To train our network we will use SGD. In addition, we will adjust the learning rate with an exponential learning rate schedule as optimization proceeds; after each epoch, we will reduce the learning rate by multiplying it by a decay rate.\n",
    "\n",
    "You can try different numbers of layers and also the different activation functions that you implemented on the CIFAR-10 dataset below."
   ]
  },
  {
   "cell_type": "code",
   "execution_count": 54,
   "metadata": {},
   "outputs": [
    {
     "name": "stdout",
     "output_type": "stream",
     "text": [
      "init\n",
      "init\n",
      "iteration 0 / 8000: loss 2.558625\n",
      "iteration 100 / 8000: loss 2.236031\n",
      "iteration 200 / 8000: loss 2.084952\n",
      "iteration 300 / 8000: loss 2.101129\n",
      "iteration 400 / 8000: loss 2.094615\n",
      "iteration 500 / 8000: loss 1.960101\n",
      "iteration 600 / 8000: loss 2.136106\n",
      "iteration 700 / 8000: loss 1.939559\n",
      "iteration 800 / 8000: loss 1.998954\n",
      "iteration 900 / 8000: loss 1.924428\n",
      "iteration 1000 / 8000: loss 1.914560\n",
      "iteration 1100 / 8000: loss 1.934344\n",
      "iteration 1200 / 8000: loss 1.933044\n",
      "iteration 1300 / 8000: loss 1.965081\n",
      "iteration 1400 / 8000: loss 1.981582\n",
      "iteration 1500 / 8000: loss 1.860607\n",
      "iteration 1600 / 8000: loss 1.878937\n",
      "iteration 1700 / 8000: loss 1.806021\n",
      "iteration 1800 / 8000: loss 1.816228\n",
      "iteration 1900 / 8000: loss 1.854129\n",
      "iteration 2000 / 8000: loss 1.828684\n",
      "iteration 2100 / 8000: loss 1.777216\n",
      "iteration 2200 / 8000: loss 1.747798\n",
      "iteration 2300 / 8000: loss 1.847469\n",
      "iteration 2400 / 8000: loss 1.892557\n",
      "iteration 2500 / 8000: loss 1.888584\n",
      "iteration 2600 / 8000: loss 1.716664\n",
      "iteration 2700 / 8000: loss 1.954705\n",
      "iteration 2800 / 8000: loss 1.817370\n",
      "iteration 2900 / 8000: loss 1.729558\n",
      "iteration 3000 / 8000: loss 1.898800\n",
      "iteration 3100 / 8000: loss 1.841990\n",
      "iteration 3200 / 8000: loss 1.808127\n",
      "iteration 3300 / 8000: loss 1.739143\n",
      "iteration 3400 / 8000: loss 1.853777\n",
      "iteration 3500 / 8000: loss 1.664902\n",
      "iteration 3600 / 8000: loss 1.831691\n",
      "iteration 3700 / 8000: loss 1.692620\n",
      "iteration 3800 / 8000: loss 1.724690\n",
      "iteration 3900 / 8000: loss 1.661734\n",
      "iteration 4000 / 8000: loss 1.751322\n",
      "iteration 4100 / 8000: loss 1.867706\n",
      "iteration 4200 / 8000: loss 1.842996\n",
      "iteration 4300 / 8000: loss 1.773336\n",
      "iteration 4400 / 8000: loss 1.789900\n",
      "iteration 4500 / 8000: loss 1.778422\n",
      "iteration 4600 / 8000: loss 1.918280\n",
      "iteration 4700 / 8000: loss 1.748235\n",
      "iteration 4800 / 8000: loss 1.739210\n",
      "iteration 4900 / 8000: loss 1.774210\n",
      "iteration 5000 / 8000: loss 1.637739\n",
      "iteration 5100 / 8000: loss 1.830512\n",
      "iteration 5200 / 8000: loss 1.741496\n",
      "iteration 5300 / 8000: loss 1.714621\n",
      "iteration 5400 / 8000: loss 1.797214\n",
      "iteration 5500 / 8000: loss 1.690520\n",
      "iteration 5600 / 8000: loss 1.797190\n",
      "iteration 5700 / 8000: loss 1.815512\n",
      "iteration 5800 / 8000: loss 1.820786\n",
      "iteration 5900 / 8000: loss 1.844738\n",
      "iteration 6000 / 8000: loss 1.759670\n",
      "iteration 6100 / 8000: loss 1.716604\n",
      "iteration 6200 / 8000: loss 1.894153\n",
      "iteration 6300 / 8000: loss 1.919803\n",
      "iteration 6400 / 8000: loss 1.818573\n",
      "iteration 6500 / 8000: loss 1.709254\n",
      "iteration 6600 / 8000: loss 1.741614\n",
      "iteration 6700 / 8000: loss 1.710843\n",
      "iteration 6800 / 8000: loss 1.797312\n",
      "iteration 6900 / 8000: loss 1.755519\n",
      "iteration 7000 / 8000: loss 1.839747\n",
      "iteration 7100 / 8000: loss 1.725912\n",
      "iteration 7200 / 8000: loss 1.795921\n",
      "iteration 7300 / 8000: loss 1.784271\n",
      "iteration 7400 / 8000: loss 1.744349\n",
      "iteration 7500 / 8000: loss 1.810557\n",
      "iteration 7600 / 8000: loss 1.765563\n",
      "iteration 7700 / 8000: loss 1.813893\n",
      "iteration 7800 / 8000: loss 1.729739\n",
      "iteration 7900 / 8000: loss 1.853086\n",
      "Validation accuracy:  0.388\n"
     ]
    }
   ],
   "source": [
    "input_size = 32 * 32 * 3\n",
    "num_layers = 2\n",
    "hidden_size = 20\n",
    "hidden_sizes = [hidden_size]*(num_layers-1)\n",
    "num_classes = 10\n",
    "net = NeuralNetwork(input_size, hidden_sizes, num_classes, num_layers, nonlinearity='relu')\n",
    "\n",
    "# Train the network\n",
    "stats = net.train(X_train, y_train, X_val, y_val,\n",
    "            num_iters=8000, batch_size=200,\n",
    "            learning_rate=1e-3, learning_rate_decay=0.95,\n",
    "            reg=0.001, verbose=True)\n",
    "\n",
    "# Predict on the validation set\n",
    "val_acc = (net.predict(X_val) == y_val).mean()\n",
    "print('Validation accuracy: ', val_acc)"
   ]
  },
  {
   "cell_type": "markdown",
   "metadata": {},
   "source": [
    "# Graph loss and train/val accuracies\n",
    "\n",
    "Examining the loss graph along with the train and val accuracy graphs should help you gain some intuition for the hyperparameters you should try in the hyperparameter tuning below. It should also help with debugging any issues you might have with your network."
   ]
  },
  {
   "cell_type": "code",
   "execution_count": 4,
   "metadata": {
    "scrolled": true
   },
   "outputs": [
    {
     "data": {
      "image/png": "[encoded data removed]",
      "text/plain": [
       "<Figure size 432x288 with 2 Axes>"
      ]
     },
     "metadata": {
      "needs_background": "light"
     },
     "output_type": "display_data"
    }
   ],
   "source": [
    "# Plot the loss function and train / validation accuracies\n",
    "plt.subplot(2, 1, 1)\n",
    "plt.plot(stats['loss_history'])\n",
    "plt.title('Loss history')\n",
    "plt.xlabel('Iteration')\n",
    "plt.ylabel('Loss')\n",
    "\n",
    "plt.subplot(2, 1, 2)\n",
    "plt.plot(stats['train_acc_history'], label='train')\n",
    "plt.plot(stats['val_acc_history'], label='val')\n",
    "plt.title('Classification accuracy history')\n",
    "plt.xlabel('Epoch')\n",
    "plt.ylabel('Clasification accuracy')\n",
    "plt.legend()\n",
    "plt.show()"
   ]
  },
  {
   "cell_type": "markdown",
   "metadata": {},
   "source": [
    "# Hyperparameter tuning\n",
    "\n",
    "Once you have successfully trained a network you can tune your hyparameters to increase your accuracy.\n",
    "\n",
    "Based on the graphs of the loss function above you should be able to develop some intuition about what hyperparameter adjustments may be necessary. A very noisy loss implies that the learning rate might be too high, while a linearly decreasing loss would suggest that the learning rate may be too low. A large gap between training and validation accuracy would suggest overfitting due to large model without much regularization. No gap between training and validation accuracy would indicate low model capacity. \n",
    "\n",
    "\n",
    "You will compare networks of two and three layers using the different activation functions you implemented. \n",
    "\n",
    "The different hyperparameters you can experiment with are:\n",
    "- **Batch size**: We recommend you leave this at 200 initially which is the batch size we used. \n",
    "- **Number of iterations**: You can gain an intuition for how many iterations to run by checking when the validation accuracy plateaus in your train/val accuracy graph.\n",
    "- **Initialization** Weight initialization is very important for neural networks. We used the initialization `W = np.random.randn(n) / sqrt(n)` where `n` is the input dimension for layer corresponding to `W`. We recommend you stick with the given initializations, but you may explore modifying these. Typical initialization practices: http://cs231n.github.io/neural-networks-2/#init\n",
    "- **Learning rate**: Generally from around 1e-4 to 1e-1 is a good range to explore according to our implementation.\n",
    "- **Learning rate decay**: We recommend a 0.95 decay to start.\n",
    "- **Hidden layer size**: You should explore up to around 120 units per layer. For three-layer network, we fixed the two hidden layers to be the same size when obtaining the target numbers. However, you may experiment with having different size hidden layers.\n",
    "- **Regularization coefficient**: We recommend trying values in the range 0 to 0.1. \n",
    "\n",
    "\n",
    "\n",
    "Hints:\n",
    "- After getting a sense of the parameters by trying a few values yourself, you will likely want to write a few for loops to traverse over a set of hyperparameters.\n",
    "- If you find that your train loss is decreasing, but your train and val accuracy start to decrease rather than increase, your model likely started minimizing the regularization term. To prevent this you will need to decrease the regularization coefficient. \n"
   ]
  },
  {
   "cell_type": "markdown",
   "metadata": {},
   "source": [
    "## Two-layer Relu Activation Network "
   ]
  },
  {
   "cell_type": "code",
   "execution_count": 49,
   "metadata": {
    "scrolled": false
   },
   "outputs": [
    {
     "name": "stdout",
     "output_type": "stream",
     "text": [
      "init\n",
      "init\n",
      "iteration 0 / 8000: loss 2.434339\n",
      "iteration 100 / 8000: loss 1.640576\n",
      "iteration 200 / 8000: loss 1.555170\n",
      "iteration 300 / 8000: loss 1.609387\n",
      "iteration 400 / 8000: loss 1.601874\n",
      "iteration 500 / 8000: loss 1.660892\n",
      "iteration 600 / 8000: loss 1.433028\n",
      "iteration 700 / 8000: loss 1.658491\n",
      "iteration 800 / 8000: loss 1.453665\n",
      "iteration 900 / 8000: loss 1.512835\n",
      "iteration 1000 / 8000: loss 1.497441\n",
      "iteration 1100 / 8000: loss 1.458060\n",
      "iteration 1200 / 8000: loss 1.452535\n",
      "iteration 1300 / 8000: loss 1.444733\n",
      "iteration 1400 / 8000: loss 1.427602\n",
      "iteration 1500 / 8000: loss 1.581782\n",
      "iteration 1600 / 8000: loss 1.472248\n",
      "iteration 1700 / 8000: loss 1.441195\n",
      "iteration 1800 / 8000: loss 1.455024\n",
      "iteration 1900 / 8000: loss 1.437041\n",
      "iteration 2000 / 8000: loss 1.513295\n",
      "iteration 2100 / 8000: loss 1.548226\n",
      "iteration 2200 / 8000: loss 1.409362\n",
      "iteration 2300 / 8000: loss 1.449760\n",
      "iteration 2400 / 8000: loss 1.307946\n",
      "iteration 2500 / 8000: loss 1.302869\n",
      "iteration 2600 / 8000: loss 1.356165\n",
      "iteration 2700 / 8000: loss 1.513901\n",
      "iteration 2800 / 8000: loss 1.440684\n",
      "iteration 2900 / 8000: loss 1.498087\n",
      "iteration 3000 / 8000: loss 1.330597\n",
      "iteration 3100 / 8000: loss 1.449473\n",
      "iteration 3200 / 8000: loss 1.330474\n",
      "iteration 3300 / 8000: loss 1.367460\n",
      "iteration 3400 / 8000: loss 1.366876\n",
      "iteration 3500 / 8000: loss 1.293810\n",
      "iteration 3600 / 8000: loss 1.342367\n",
      "iteration 3700 / 8000: loss 1.433502\n",
      "iteration 3800 / 8000: loss 1.302777\n",
      "iteration 3900 / 8000: loss 1.385641\n",
      "iteration 4000 / 8000: loss 1.325594\n",
      "iteration 4100 / 8000: loss 1.315356\n",
      "iteration 4200 / 8000: loss 1.363989\n",
      "iteration 4300 / 8000: loss 1.313260\n",
      "iteration 4400 / 8000: loss 1.247630\n",
      "iteration 4500 / 8000: loss 1.374840\n",
      "iteration 4600 / 8000: loss 1.339041\n",
      "iteration 4700 / 8000: loss 1.275822\n",
      "iteration 4800 / 8000: loss 1.435852\n",
      "iteration 4900 / 8000: loss 1.364376\n",
      "iteration 5000 / 8000: loss 1.364951\n",
      "iteration 5100 / 8000: loss 1.450907\n",
      "iteration 5200 / 8000: loss 1.489595\n",
      "iteration 5300 / 8000: loss 1.250696\n",
      "iteration 5400 / 8000: loss 1.292347\n",
      "iteration 5500 / 8000: loss 1.314213\n",
      "iteration 5600 / 8000: loss 1.376251\n",
      "iteration 5700 / 8000: loss 1.276813\n",
      "iteration 5800 / 8000: loss 1.263768\n",
      "iteration 5900 / 8000: loss 1.361678\n",
      "iteration 6000 / 8000: loss 1.416448\n",
      "iteration 6100 / 8000: loss 1.279922\n",
      "iteration 6200 / 8000: loss 1.263062\n",
      "iteration 6300 / 8000: loss 1.193833\n",
      "iteration 6400 / 8000: loss 1.169863\n",
      "iteration 6500 / 8000: loss 1.314170\n",
      "iteration 6600 / 8000: loss 1.396826\n",
      "iteration 6700 / 8000: loss 1.259249\n",
      "iteration 6800 / 8000: loss 1.229795\n",
      "iteration 6900 / 8000: loss 1.475044\n",
      "iteration 7000 / 8000: loss 1.180034\n",
      "iteration 7100 / 8000: loss 1.171513\n",
      "iteration 7200 / 8000: loss 1.324259\n",
      "iteration 7300 / 8000: loss 1.296559\n",
      "iteration 7400 / 8000: loss 1.304781\n",
      "iteration 7500 / 8000: loss 1.328543\n",
      "iteration 7600 / 8000: loss 1.169353\n",
      "iteration 7700 / 8000: loss 1.311281\n",
      "iteration 7800 / 8000: loss 1.324057\n",
      "iteration 7900 / 8000: loss 1.170030\n",
      "Validation accuracy:  0.486\n"
     ]
    }
   ],
   "source": [
    "best_2layer_relu = None # store the best model into this \n",
    "\n",
    "#################################################################################\n",
    "# TODO: Tune hyperparameters using the validation set. Store your best trained  #\n",
    "# model in best_2layer_relu.                                                    #\n",
    "#################################################################################\n",
    "input_size = 32 * 32 * 3\n",
    "num_layers = 2\n",
    "hidden_size = 20\n",
    "hidden_sizes = [hidden_size]*(num_layers-1)\n",
    "num_classes = 10\n",
    "net_2_relu = NeuralNetwork(input_size, hidden_sizes, num_classes, num_layers, nonlinearity='relu')\n",
    "\n",
    "# The parameters below are the optimal hyperparameters\n",
    "stats = net_2_relu.train(X_train, y_train, X_val, y_val,\n",
    "            num_iters=8000, batch_size=200,\n",
    "            learning_rate=0.1, learning_rate_decay=0.92,\n",
    "            reg=1e-05, verbose=True)\n",
    "\n",
    "# Predict on the validation set\n",
    "val_acc = (net_2_relu.predict(X_val) == y_val).mean()\n",
    "print('Validation accuracy: ', val_acc)\n",
    "best_2layer_relu = net_2_relu \n"
   ]
  },
  {
   "cell_type": "markdown",
   "metadata": {},
   "source": [
    "## Two-layer Sigmoid Activation Network "
   ]
  },
  {
   "cell_type": "code",
   "execution_count": 27,
   "metadata": {},
   "outputs": [
    {
     "name": "stdout",
     "output_type": "stream",
     "text": [
      "init\n",
      "init\n",
      "iteration 0 / 8000: loss 2.395958\n",
      "iteration 100 / 8000: loss 1.937149\n",
      "iteration 200 / 8000: loss 1.813456\n",
      "iteration 300 / 8000: loss 1.710235\n",
      "iteration 400 / 8000: loss 1.849772\n",
      "iteration 500 / 8000: loss 1.854510\n",
      "iteration 600 / 8000: loss 1.766536\n",
      "iteration 700 / 8000: loss 1.672057\n",
      "iteration 800 / 8000: loss 1.735284\n",
      "iteration 900 / 8000: loss 1.734708\n",
      "iteration 1000 / 8000: loss 1.661553\n",
      "iteration 1100 / 8000: loss 1.758427\n",
      "iteration 1200 / 8000: loss 1.678100\n",
      "iteration 1300 / 8000: loss 1.706238\n",
      "iteration 1400 / 8000: loss 1.691245\n",
      "iteration 1500 / 8000: loss 1.669088\n",
      "iteration 1600 / 8000: loss 1.612037\n",
      "iteration 1700 / 8000: loss 1.652594\n",
      "iteration 1800 / 8000: loss 1.702863\n",
      "iteration 1900 / 8000: loss 1.629879\n",
      "iteration 2000 / 8000: loss 1.742476\n",
      "iteration 2100 / 8000: loss 1.548109\n",
      "iteration 2200 / 8000: loss 1.559842\n",
      "iteration 2300 / 8000: loss 1.643610\n",
      "iteration 2400 / 8000: loss 1.767126\n",
      "iteration 2500 / 8000: loss 1.703175\n",
      "iteration 2600 / 8000: loss 1.681802\n",
      "iteration 2700 / 8000: loss 1.503434\n",
      "iteration 2800 / 8000: loss 1.714206\n",
      "iteration 2900 / 8000: loss 1.618435\n",
      "iteration 3000 / 8000: loss 1.649964\n",
      "iteration 3100 / 8000: loss 1.623444\n",
      "iteration 3200 / 8000: loss 1.635763\n",
      "iteration 3300 / 8000: loss 1.555139\n",
      "iteration 3400 / 8000: loss 1.592867\n",
      "iteration 3500 / 8000: loss 1.652106\n",
      "iteration 3600 / 8000: loss 1.591315\n",
      "iteration 3700 / 8000: loss 1.625451\n",
      "iteration 3800 / 8000: loss 1.767736\n",
      "iteration 3900 / 8000: loss 1.602280\n",
      "iteration 4000 / 8000: loss 1.525925\n",
      "iteration 4100 / 8000: loss 1.626310\n",
      "iteration 4200 / 8000: loss 1.591734\n",
      "iteration 4300 / 8000: loss 1.775335\n",
      "iteration 4400 / 8000: loss 1.734879\n",
      "iteration 4500 / 8000: loss 1.669375\n",
      "iteration 4600 / 8000: loss 1.504234\n",
      "iteration 4700 / 8000: loss 1.673416\n",
      "iteration 4800 / 8000: loss 1.535144\n",
      "iteration 4900 / 8000: loss 1.502655\n",
      "iteration 5000 / 8000: loss 1.594508\n",
      "iteration 5100 / 8000: loss 1.588180\n",
      "iteration 5200 / 8000: loss 1.597976\n",
      "iteration 5300 / 8000: loss 1.636063\n",
      "iteration 5400 / 8000: loss 1.633814\n",
      "iteration 5500 / 8000: loss 1.667216\n",
      "iteration 5600 / 8000: loss 1.713389\n",
      "iteration 5700 / 8000: loss 1.577475\n",
      "iteration 5800 / 8000: loss 1.530532\n",
      "iteration 5900 / 8000: loss 1.508197\n",
      "iteration 6000 / 8000: loss 1.542953\n",
      "iteration 6100 / 8000: loss 1.471231\n",
      "iteration 6200 / 8000: loss 1.630885\n",
      "iteration 6300 / 8000: loss 1.702797\n",
      "iteration 6400 / 8000: loss 1.694654\n",
      "iteration 6500 / 8000: loss 1.618180\n",
      "iteration 6600 / 8000: loss 1.672872\n",
      "iteration 6700 / 8000: loss 1.607023\n",
      "iteration 6800 / 8000: loss 1.659379\n",
      "iteration 6900 / 8000: loss 1.540172\n",
      "iteration 7000 / 8000: loss 1.564553\n",
      "iteration 7100 / 8000: loss 1.633558\n",
      "iteration 7200 / 8000: loss 1.469814\n",
      "iteration 7300 / 8000: loss 1.524684\n",
      "iteration 7400 / 8000: loss 1.515960\n",
      "iteration 7500 / 8000: loss 1.606867\n",
      "iteration 7600 / 8000: loss 1.551683\n",
      "iteration 7700 / 8000: loss 1.615020\n",
      "iteration 7800 / 8000: loss 1.596543\n",
      "iteration 7900 / 8000: loss 1.506356\n",
      "Validation accuracy:  0.432\n"
     ]
    }
   ],
   "source": [
    "best_2layer_sigmoid = None # store the best model into this \n",
    "\n",
    "#################################################################################\n",
    "# TODO: Tune hyperparameters using the validation set. Store your best trained  #\n",
    "# model in best_2layer_sigmoid.                                                    #\n",
    "#################################################################################\n",
    "input_size = 32 * 32 * 3\n",
    "num_layers = 2\n",
    "hidden_size = 20\n",
    "hidden_sizes = [hidden_size]*(num_layers-1)\n",
    "num_classes = 10\n",
    "net_2_sigmoid = NeuralNetwork(input_size, hidden_sizes, num_classes, num_layers, nonlinearity='sigmoid')\n",
    "\n",
    "# The parameters below are the optimal hyperparameters\n",
    "stats = net_2_sigmoid.train(X_train, y_train, X_val, y_val,\n",
    "            num_iters=8000, batch_size=200,\n",
    "            learning_rate=0.1, learning_rate_decay=0.95,\n",
    "            reg=0.001, verbose=True)\n",
    "\n",
    "# Predict on the validation set\n",
    "val_acc = (net_2_sigmoid.predict(X_val) == y_val).mean()\n",
    "print('Validation accuracy: ', val_acc)\n",
    "best_2layer_sigmoid = net_2_sigmoid"
   ]
  },
  {
   "cell_type": "markdown",
   "metadata": {},
   "source": [
    "## Three-layer Relu Activation Network "
   ]
  },
  {
   "cell_type": "code",
   "execution_count": 47,
   "metadata": {},
   "outputs": [
    {
     "name": "stdout",
     "output_type": "stream",
     "text": [
      "init\n",
      "init\n",
      "init\n",
      "iteration 0 / 8000: loss 2.763569\n",
      "iteration 100 / 8000: loss 1.938355\n",
      "iteration 200 / 8000: loss 1.823014\n",
      "iteration 300 / 8000: loss 1.803418\n",
      "iteration 400 / 8000: loss 1.827401\n",
      "iteration 500 / 8000: loss 1.755698\n",
      "iteration 600 / 8000: loss 1.890177\n",
      "iteration 700 / 8000: loss 1.708097\n",
      "iteration 800 / 8000: loss 1.815078\n",
      "iteration 900 / 8000: loss 1.704471\n",
      "iteration 1000 / 8000: loss 1.576958\n",
      "iteration 1100 / 8000: loss 1.700477\n",
      "iteration 1200 / 8000: loss 1.503689\n",
      "iteration 1300 / 8000: loss 1.663115\n",
      "iteration 1400 / 8000: loss 1.596131\n",
      "iteration 1500 / 8000: loss 1.799558\n",
      "iteration 1600 / 8000: loss 1.682485\n",
      "iteration 1700 / 8000: loss 1.532139\n",
      "iteration 1800 / 8000: loss 1.541665\n",
      "iteration 1900 / 8000: loss 1.653181\n",
      "iteration 2000 / 8000: loss 1.624564\n",
      "iteration 2100 / 8000: loss 1.525944\n",
      "iteration 2200 / 8000: loss 1.532972\n",
      "iteration 2300 / 8000: loss 1.588446\n",
      "iteration 2400 / 8000: loss 1.619374\n",
      "iteration 2500 / 8000: loss 1.547981\n",
      "iteration 2600 / 8000: loss 1.489381\n",
      "iteration 2700 / 8000: loss 1.469104\n",
      "iteration 2800 / 8000: loss 1.489406\n",
      "iteration 2900 / 8000: loss 1.708560\n",
      "iteration 3000 / 8000: loss 1.532633\n",
      "iteration 3100 / 8000: loss 1.467425\n",
      "iteration 3200 / 8000: loss 1.481480\n",
      "iteration 3300 / 8000: loss 1.561190\n",
      "iteration 3400 / 8000: loss 1.494865\n",
      "iteration 3500 / 8000: loss 1.574031\n",
      "iteration 3600 / 8000: loss 1.470279\n",
      "iteration 3700 / 8000: loss 1.456991\n",
      "iteration 3800 / 8000: loss 1.579874\n",
      "iteration 3900 / 8000: loss 1.545626\n",
      "iteration 4000 / 8000: loss 1.660003\n",
      "iteration 4100 / 8000: loss 1.553977\n",
      "iteration 4200 / 8000: loss 1.508619\n",
      "iteration 4300 / 8000: loss 1.608121\n",
      "iteration 4400 / 8000: loss 1.601974\n",
      "iteration 4500 / 8000: loss 1.434813\n",
      "iteration 4600 / 8000: loss 1.634994\n",
      "iteration 4700 / 8000: loss 1.430252\n",
      "iteration 4800 / 8000: loss 1.495066\n",
      "iteration 4900 / 8000: loss 1.491880\n",
      "iteration 5000 / 8000: loss 1.467765\n",
      "iteration 5100 / 8000: loss 1.602160\n",
      "iteration 5200 / 8000: loss 1.570381\n",
      "iteration 5300 / 8000: loss 1.502908\n",
      "iteration 5400 / 8000: loss 1.600096\n",
      "iteration 5500 / 8000: loss 1.595896\n",
      "iteration 5600 / 8000: loss 1.553835\n",
      "iteration 5700 / 8000: loss 1.445289\n",
      "iteration 5800 / 8000: loss 1.552727\n",
      "iteration 5900 / 8000: loss 1.643944\n",
      "iteration 6000 / 8000: loss 1.462970\n",
      "iteration 6100 / 8000: loss 1.572399\n",
      "iteration 6200 / 8000: loss 1.540994\n",
      "iteration 6300 / 8000: loss 1.490439\n",
      "iteration 6400 / 8000: loss 1.437714\n",
      "iteration 6500 / 8000: loss 1.521544\n",
      "iteration 6600 / 8000: loss 1.540230\n",
      "iteration 6700 / 8000: loss 1.507594\n",
      "iteration 6800 / 8000: loss 1.371292\n",
      "iteration 6900 / 8000: loss 1.544160\n",
      "iteration 7000 / 8000: loss 1.559553\n",
      "iteration 7100 / 8000: loss 1.494491\n",
      "iteration 7200 / 8000: loss 1.405332\n",
      "iteration 7300 / 8000: loss 1.468646\n",
      "iteration 7400 / 8000: loss 1.602727\n",
      "iteration 7500 / 8000: loss 1.626860\n",
      "iteration 7600 / 8000: loss 1.549270\n",
      "iteration 7700 / 8000: loss 1.413255\n",
      "iteration 7800 / 8000: loss 1.530231\n",
      "iteration 7900 / 8000: loss 1.435481\n",
      "Validation accuracy:  0.489\n"
     ]
    }
   ],
   "source": [
    "best_3layer_relu = None # store the best model into this \n",
    "\n",
    "#################################################################################\n",
    "# TODO: Tune hyperparameters using the validation set. Store your best trained  #\n",
    "# model in best_3layer_relu.                                                    #\n",
    "#################################################################################\n",
    "input_size = 32 * 32 * 3\n",
    "num_layers = 3\n",
    "hidden_size = 20\n",
    "hidden_sizes = [hidden_size]*(num_layers-1)\n",
    "num_classes = 10\n",
    "net_3_relu = NeuralNetwork(input_size, hidden_sizes, num_classes, num_layers, nonlinearity='relu')\n",
    "\n",
    "# The parameters below are the optimal hyperparameters\n",
    "stats = net_3_relu.train(X_train, y_train, X_val, y_val,\n",
    "            num_iters=8000, batch_size=200,\n",
    "            learning_rate=0.1, learning_rate_decay=0.9,\n",
    "            reg=0.01, verbose=True)\n",
    "\n",
    "# Predict on the validation set\n",
    "val_acc = (net_3_relu.predict(X_val) == y_val).mean()\n",
    "print('Validation accuracy: ', val_acc)\n",
    "best_3layer_relu = net_3_relu"
   ]
  },
  {
   "cell_type": "markdown",
   "metadata": {},
   "source": [
    "## Three-layer Sigmoid Activation Network "
   ]
  },
  {
   "cell_type": "code",
   "execution_count": 30,
   "metadata": {},
   "outputs": [
    {
     "name": "stdout",
     "output_type": "stream",
     "text": [
      "init\n",
      "init\n",
      "init\n",
      "iteration 0 / 8000: loss 2.378224\n",
      "iteration 100 / 8000: loss 2.221489\n",
      "iteration 200 / 8000: loss 2.158907\n",
      "iteration 300 / 8000: loss 2.079334\n",
      "iteration 400 / 8000: loss 2.119641\n",
      "iteration 500 / 8000: loss 1.940198\n",
      "iteration 600 / 8000: loss 1.868415\n",
      "iteration 700 / 8000: loss 1.938599\n",
      "iteration 800 / 8000: loss 1.846637\n",
      "iteration 900 / 8000: loss 1.921527\n",
      "iteration 1000 / 8000: loss 1.834612\n",
      "iteration 1100 / 8000: loss 1.804936\n",
      "iteration 1200 / 8000: loss 1.751597\n",
      "iteration 1300 / 8000: loss 1.776751\n",
      "iteration 1400 / 8000: loss 1.728836\n",
      "iteration 1500 / 8000: loss 1.704875\n",
      "iteration 1600 / 8000: loss 1.710147\n",
      "iteration 1700 / 8000: loss 1.796857\n",
      "iteration 1800 / 8000: loss 1.708099\n",
      "iteration 1900 / 8000: loss 1.677808\n",
      "iteration 2000 / 8000: loss 1.660901\n",
      "iteration 2100 / 8000: loss 1.720025\n",
      "iteration 2200 / 8000: loss 1.752379\n",
      "iteration 2300 / 8000: loss 1.743757\n",
      "iteration 2400 / 8000: loss 1.711593\n",
      "iteration 2500 / 8000: loss 1.688301\n",
      "iteration 2600 / 8000: loss 1.637528\n",
      "iteration 2700 / 8000: loss 1.644198\n",
      "iteration 2800 / 8000: loss 1.715442\n",
      "iteration 2900 / 8000: loss 1.563086\n",
      "iteration 3000 / 8000: loss 1.559088\n",
      "iteration 3100 / 8000: loss 1.741322\n",
      "iteration 3200 / 8000: loss 1.563907\n",
      "iteration 3300 / 8000: loss 1.731207\n",
      "iteration 3400 / 8000: loss 1.649391\n",
      "iteration 3500 / 8000: loss 1.685012\n",
      "iteration 3600 / 8000: loss 1.554543\n",
      "iteration 3700 / 8000: loss 1.591522\n",
      "iteration 3800 / 8000: loss 1.649185\n",
      "iteration 3900 / 8000: loss 1.671730\n",
      "iteration 4000 / 8000: loss 1.657455\n",
      "iteration 4100 / 8000: loss 1.668898\n",
      "iteration 4200 / 8000: loss 1.577597\n",
      "iteration 4300 / 8000: loss 1.619302\n",
      "iteration 4400 / 8000: loss 1.606243\n",
      "iteration 4500 / 8000: loss 1.595927\n",
      "iteration 4600 / 8000: loss 1.643099\n",
      "iteration 4700 / 8000: loss 1.628155\n",
      "iteration 4800 / 8000: loss 1.618304\n",
      "iteration 4900 / 8000: loss 1.562609\n",
      "iteration 5000 / 8000: loss 1.585667\n",
      "iteration 5100 / 8000: loss 1.604009\n",
      "iteration 5200 / 8000: loss 1.646957\n",
      "iteration 5300 / 8000: loss 1.526269\n",
      "iteration 5400 / 8000: loss 1.571677\n",
      "iteration 5500 / 8000: loss 1.578604\n",
      "iteration 5600 / 8000: loss 1.680658\n",
      "iteration 5700 / 8000: loss 1.410335\n",
      "iteration 5800 / 8000: loss 1.530739\n",
      "iteration 5900 / 8000: loss 1.474627\n",
      "iteration 6000 / 8000: loss 1.627612\n",
      "iteration 6100 / 8000: loss 1.582172\n",
      "iteration 6200 / 8000: loss 1.455783\n",
      "iteration 6300 / 8000: loss 1.635088\n",
      "iteration 6400 / 8000: loss 1.572893\n",
      "iteration 6500 / 8000: loss 1.473250\n",
      "iteration 6600 / 8000: loss 1.483096\n",
      "iteration 6700 / 8000: loss 1.510699\n",
      "iteration 6800 / 8000: loss 1.493360\n",
      "iteration 6900 / 8000: loss 1.608680\n",
      "iteration 7000 / 8000: loss 1.515542\n",
      "iteration 7100 / 8000: loss 1.455069\n",
      "iteration 7200 / 8000: loss 1.572490\n",
      "iteration 7300 / 8000: loss 1.436476\n",
      "iteration 7400 / 8000: loss 1.628311\n",
      "iteration 7500 / 8000: loss 1.420603\n",
      "iteration 7600 / 8000: loss 1.596257\n",
      "iteration 7700 / 8000: loss 1.489432\n",
      "iteration 7800 / 8000: loss 1.572775\n",
      "iteration 7900 / 8000: loss 1.521840\n",
      "Validation accuracy:  0.445\n"
     ]
    }
   ],
   "source": [
    "best_3layer_sigmoid = None # store the best model into this \n",
    "\n",
    "#################################################################################\n",
    "# TODO: Tune hyperparameters using the validation set. Store your best trained  #\n",
    "# model in best_3layer_sigmoid.                                                    #\n",
    "#################################################################################\n",
    "input_size = 32 * 32 * 3\n",
    "num_layers = 3\n",
    "hidden_size = 20\n",
    "hidden_sizes = [hidden_size]*(num_layers-1)\n",
    "num_classes = 10\n",
    "net_3_sigmoid = NeuralNetwork(input_size, hidden_sizes, num_classes, num_layers, nonlinearity='sigmoid')\n",
    "\n",
    "# The parameters below are the optimal hyperparameters\n",
    "stats = net_3_sigmoid.train(X_train, y_train, X_val, y_val,\n",
    "            num_iters=8000, batch_size=200,\n",
    "            learning_rate=0.1, learning_rate_decay=0.99,\n",
    "            reg=0.0001, verbose=True)\n",
    "\n",
    "# Predict on the validation set\n",
    "val_acc = (net_3_sigmoid.predict(X_val) == y_val).mean()\n",
    "print('Validation accuracy: ', val_acc)\n",
    "best_3layer_sigmoid = net_3_sigmoid "
   ]
  },
  {
   "cell_type": "markdown",
   "metadata": {},
   "source": [
    "# Run on the test set\n",
    "When you are done experimenting, you should evaluate your final trained networks on the test set."
   ]
  },
  {
   "cell_type": "code",
   "execution_count": 50,
   "metadata": {},
   "outputs": [
    {
     "name": "stdout",
     "output_type": "stream",
     "text": [
      "Two-layer relu\n",
      "Test accuracy:  0.4704\n"
     ]
    }
   ],
   "source": [
    "print('Two-layer relu')\n",
    "test_acc = (best_2layer_relu.predict(X_test) == y_test).mean()\n",
    "print('Test accuracy: ', test_acc)"
   ]
  },
  {
   "cell_type": "code",
   "execution_count": 51,
   "metadata": {},
   "outputs": [
    {
     "name": "stdout",
     "output_type": "stream",
     "text": [
      "Two-layer sigmoid\n",
      "Test accuracy:  0.445\n"
     ]
    }
   ],
   "source": [
    "print('Two-layer sigmoid')\n",
    "test_acc = (best_2layer_sigmoid.predict(X_test) == y_test).mean()\n",
    "print('Test accuracy: ', test_acc)"
   ]
  },
  {
   "cell_type": "code",
   "execution_count": 52,
   "metadata": {},
   "outputs": [
    {
     "name": "stdout",
     "output_type": "stream",
     "text": [
      "Three-layer relu\n",
      "Test accuracy:  0.4924\n"
     ]
    }
   ],
   "source": [
    "print('Three-layer relu')\n",
    "test_acc = (best_3layer_relu.predict(X_test) == y_test).mean()\n",
    "print('Test accuracy: ', test_acc)"
   ]
  },
  {
   "cell_type": "code",
   "execution_count": 53,
   "metadata": {},
   "outputs": [
    {
     "name": "stdout",
     "output_type": "stream",
     "text": [
      "Three-layer sigmoid\n",
      "Test accuracy:  0.4314\n"
     ]
    }
   ],
   "source": [
    "print('Three-layer sigmoid')\n",
    "test_acc = (best_3layer_sigmoid.predict(X_test) == y_test).mean()\n",
    "print('Test accuracy: ', test_acc)"
   ]
  },
  {
   "cell_type": "markdown",
   "metadata": {},
   "source": [
    "# Kaggle output\n",
    "\n",
    "Once you are satisfied with your solution and test accuracy output a file to submit your test set predictions to the Kaggle for Assignment 2 Neural Network. Use the following code to do so:"
   ]
  },
  {
   "cell_type": "code",
   "execution_count": 59,
   "metadata": {},
   "outputs": [],
   "source": [
    "output_submission_csv('nn_2layer_relu_submission.csv', best_2layer_relu.predict(X_test))"
   ]
  },
  {
   "cell_type": "code",
   "execution_count": 60,
   "metadata": {},
   "outputs": [],
   "source": [
    "output_submission_csv('nn_2layer_sigmoid_submission.csv', best_2layer_sigmoid.predict(X_test))"
   ]
  },
  {
   "cell_type": "code",
   "execution_count": 61,
   "metadata": {},
   "outputs": [],
   "source": [
    "output_submission_csv('nn_3layer_relu_submission.csv', best_3layer_relu.predict(X_test))"
   ]
  },
  {
   "cell_type": "code",
   "execution_count": 62,
   "metadata": {},
   "outputs": [],
   "source": [
    "output_submission_csv('nn_3layer_sigmoid_submission.csv', best_3layer_sigmoid.predict(X_test))"
   ]
  },
  {
   "cell_type": "code",
   "execution_count": null,
   "metadata": {},
   "outputs": [],
   "source": []
  },
  {
   "cell_type": "code",
   "execution_count": null,
   "metadata": {},
   "outputs": [],
   "source": []
  },
  {
   "cell_type": "code",
   "execution_count": null,
   "metadata": {},
   "outputs": [],
   "source": []
  }
 ],
 "metadata": {
  "kernelspec": {
   "display_name": "Python 3",
   "language": "python",
   "name": "python3"
  },
  "language_info": {
   "codemirror_mode": {
    "name": "ipython",
    "version": 3
   },
   "file_extension": ".py",
   "mimetype": "text/x-python",
   "name": "python",
   "nbconvert_exporter": "python",
   "pygments_lexer": "ipython3",
   "version": "3.7.3"
  }
 },
 "nbformat": 4,
 "nbformat_minor": 1
}
